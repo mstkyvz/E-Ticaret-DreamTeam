{
 "cells": [
  {
   "cell_type": "code",
   "execution_count": 70,
   "id": "873e5020-cfc9-4a5a-a682-a0cea33c7ce0",
   "metadata": {},
   "outputs": [],
   "source": [
    "import os\n"
   ]
  },
  {
   "cell_type": "code",
   "execution_count": 72,
   "id": "2ca982e8-f83f-4804-8a4e-656064124a32",
   "metadata": {
    "tags": []
   },
   "outputs": [],
   "source": [
    "aa=\"\"\"**Çıkış:**\n",
    "\n",
    "\n",
    "{\n",
    "  \"product_name\": \"Kuşburnu Marmelat - 700g\",\n",
    "  \"product_detailed_description\": \"700 gramlık bu kuşburnu marmelatı, taze kuşburnu marmelatından elde edilmiştir. Katkı maddesi içermez ve yemeklerinizde zengin bir lezzet katmak için idealdir.\"\n",
    "}\"\"\""
   ]
  },
  {
   "cell_type": "code",
   "execution_count": 77,
   "id": "c7051ca6-836f-441d-b92a-9d15e98d9429",
   "metadata": {},
   "outputs": [],
   "source": [
    "def extract_and_convert_to_json(input_string):\n",
    "    pattern = r'\\{([^}]*)\\}'\n",
    "    matches = re.findall(pattern, input_string)\n",
    "    combined = '{' + '}{'.join(matches) + '}'\n",
    "    \n",
    "    try:\n",
    "        json_output = json.loads(combined)\n",
    "        return json_output\n",
    "    except json.JSONDecodeError:\n",
    "        return \"Geçerli bir JSON oluşturulamadı.\""
   ]
  },
  {
   "cell_type": "code",
   "execution_count": 78,
   "id": "303b8edc-f822-4c20-92f0-1493a5f10792",
   "metadata": {
    "tags": []
   },
   "outputs": [
    {
     "data": {
      "text/plain": [
       "{'product_name': 'Kuşburnu Marmelat - 700g',\n",
       " 'product_detailed_description': '700 gramlık bu kuşburnu marmelatı, taze kuşburnu marmelatından elde edilmiştir. Katkı maddesi içermez ve yemeklerinizde zengin bir lezzet katmak için idealdir.'}"
      ]
     },
     "execution_count": 78,
     "metadata": {},
     "output_type": "execute_result"
    }
   ],
   "source": [
    "extract_and_convert_to_json(aa)"
   ]
  },
  {
   "cell_type": "code",
   "execution_count": null,
   "id": "a988909f-d5fa-4fd0-b4fe-c9a1c8b9181e",
   "metadata": {},
   "outputs": [],
   "source": []
  }
 ],
 "metadata": {
  "environment": {
   "kernel": "conda-base-py",
   "name": "workbench-notebooks.m124",
   "type": "gcloud",
   "uri": "us-docker.pkg.dev/deeplearning-platform-release/gcr.io/workbench-notebooks:m124"
  },
  "kernelspec": {
   "display_name": "Python 3 (ipykernel)",
   "language": "python",
   "name": "conda-base-py"
  },
  "language_info": {
   "codemirror_mode": {
    "name": "ipython",
    "version": 3
   },
   "file_extension": ".py",
   "mimetype": "text/x-python",
   "name": "python",
   "nbconvert_exporter": "python",
   "pygments_lexer": "ipython3",
   "version": "3.10.14"
  }
 },
 "nbformat": 4,
 "nbformat_minor": 5
}
