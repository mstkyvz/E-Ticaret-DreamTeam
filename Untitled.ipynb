{
 "cells": [
  {
   "cell_type": "code",
   "execution_count": 2,
   "id": "e8aab378-bbf7-4b44-a0c7-6baeddc74cee",
   "metadata": {
    "tags": []
   },
   "outputs": [],
   "source": [
    "import Translater"
   ]
  },
  {
   "cell_type": "code",
   "execution_count": 14,
   "id": "29a6b5e1-49ae-4f42-9ac5-b0c76c2dc114",
   "metadata": {
    "tags": []
   },
   "outputs": [],
   "source": [
    "a=\"\"\"{\n",
    "  \"product_name\": \"GANİK Kusburnu Marmelatı - 700g\",\n",
    "  \"product_detailed_description\": \"GANİK Kusburnu Marmelatı, 700 gramlık bir ürün olup, doğal ve özel bir lezzet sunar. Kusburnu meyvesinden elde edilir ve doğal şekerle hazırlanır. Bu marmelat, sağlıklı bir atıştırmalık veya yemeklerinize lezzet katmak için idealdir. %100 doğal içeriklidir ve organik olarak üretilmiştir.\"\n",
    "}\"\"\""
   ]
  },
  {
   "cell_type": "code",
   "execution_count": 15,
   "id": "277aa18a-c69b-4b59-a8a9-63d841ca7787",
   "metadata": {
    "tags": []
   },
   "outputs": [],
   "source": [
    "response=Translater.llm(a,\"tr\",\"ar\")"
   ]
  },
  {
   "cell_type": "code",
   "execution_count": 16,
   "id": "ca3fa8e9-9337-4860-a9c0-fe2c81b06afb",
   "metadata": {
    "tags": []
   },
   "outputs": [
    {
     "data": {
      "text/plain": [
       "'```json\\n{\\n  \"product_name\": \"GANİK Kusburnu Marmelatı - 700g\",\\n  \"product_detailed_description\": \"GANİK Kusburnu Marmelatı,  منتج  بوزن 700 جرام، ويوفر نكهة طبيعية وخاصة.  يتم الحصول عليها من فاكهة  kusburnu  وتجهز بالسكر الطبيعي. هذه المربى مثالية كوجبة خفيفة صحية أو لإضافة نكهة إلى أطباقك. يحتوي على مكونات طبيعية بنسبة 100%  و يُنتج بشكل عضوي.\"\\n}\\n```'"
      ]
     },
     "execution_count": 16,
     "metadata": {},
     "output_type": "execute_result"
    }
   ],
   "source": [
    "response.content"
   ]
  },
  {
   "cell_type": "code",
   "execution_count": 17,
   "id": "859329d4-d66b-4a6d-80d7-b41883dc1ea5",
   "metadata": {
    "tags": []
   },
   "outputs": [
    {
     "data": {
      "text/plain": [
       "['-', 'a']"
      ]
     },
     "execution_count": 17,
     "metadata": {},
     "output_type": "execute_result"
    }
   ],
   "source": [
    "[\"-\"]+[\"a\"]"
   ]
  },
  {
   "cell_type": "code",
   "execution_count": null,
   "id": "787d8e42-93c4-4831-9b62-cef419022c1c",
   "metadata": {},
   "outputs": [],
   "source": []
  }
 ],
 "metadata": {
  "environment": {
   "kernel": "conda-base-py",
   "name": "workbench-notebooks.m124",
   "type": "gcloud",
   "uri": "us-docker.pkg.dev/deeplearning-platform-release/gcr.io/workbench-notebooks:m124"
  },
  "kernelspec": {
   "display_name": "Python 3 (ipykernel)",
   "language": "python",
   "name": "conda-base-py"
  },
  "language_info": {
   "codemirror_mode": {
    "name": "ipython",
    "version": 3
   },
   "file_extension": ".py",
   "mimetype": "text/x-python",
   "name": "python",
   "nbconvert_exporter": "python",
   "pygments_lexer": "ipython3",
   "version": "3.10.14"
  }
 },
 "nbformat": 4,
 "nbformat_minor": 5
}
